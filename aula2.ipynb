{
  "nbformat": 4,
  "nbformat_minor": 0,
  "metadata": {
    "colab": {
      "provenance": []
    },
    "kernelspec": {
      "name": "python3",
      "display_name": "Python 3"
    },
    "language_info": {
      "name": "python"
    }
  },
  "cells": [
    {
      "cell_type": "code",
      "execution_count": 13,
      "metadata": {
        "colab": {
          "base_uri": "https://localhost:8080/"
        },
        "id": "Tfi-qxh3UWFY",
        "outputId": "e1b78a91-99dd-4887-d717-a905a83b4a93"
      },
      "outputs": [
        {
          "output_type": "stream",
          "name": "stdout",
          "text": [
            "00 = 21\n",
            "01 = 29\n",
            "10 = 59\n",
            "11 = 93\n"
          ]
        }
      ],
      "source": [
        "# exemplo1\n",
        "\n",
        "A = [\n",
        "    [1, 3, 2],\n",
        "    [4, 7, 6],\n",
        "]\n",
        "B = [\n",
        "    [2, 8],\n",
        "    [3, 1],\n",
        "    [5, 9],\n",
        "]\n",
        "# resultado = [[0],[0]]\n",
        "for i in range(2):\n",
        "  for j in range(2):\n",
        "    soma = 0\n",
        "    for k in range(3):\n",
        "      # print(f'{i}{k} * {k}{j}')\n",
        "      # print(A[i][k] , B[k][j])\n",
        "      soma += A[i][k] * B[k][j]\n",
        "    print(f'{i}{j} = {soma}')\n",
        "\n",
        "# resultado"
      ]
    },
    {
      "cell_type": "code",
      "source": [
        "# exemplo2\n",
        "\n",
        "A = [\n",
        "    [2, 0, 0],\n",
        "    [0, 1, 0],\n",
        "    [0, 0, 7],\n",
        "]\n",
        "diagonal = True\n",
        "for i in range(3):\n",
        "  for j in range(3):\n",
        "    if i != j and A[i][j] !=0:\n",
        "      diagonal = False\n",
        "      break\n",
        "\n",
        "if diagonal:\n",
        "  print('é diagonal')\n",
        "else:\n",
        "  print('não é diagonal')"
      ],
      "metadata": {
        "colab": {
          "base_uri": "https://localhost:8080/"
        },
        "id": "qn8oooJEa-tX",
        "outputId": "7571b945-2f70-49c4-bf3c-40905afa857b"
      },
      "execution_count": 21,
      "outputs": [
        {
          "output_type": "stream",
          "name": "stdout",
          "text": [
            "é diagonal\n"
          ]
        }
      ]
    },
    {
      "cell_type": "code",
      "source": [
        "# exemplo3\n",
        "\n",
        "A = [\n",
        "    [1, 0, 0],\n",
        "    [0, 1, 0],\n",
        "    [0, 0, 1],\n",
        "]\n",
        "\n",
        "identidade = True\n",
        "\n",
        "for i in range(3):\n",
        "  for j in range(3):\n",
        "    if (i == j and A[i][j] != 1) or (i != j and A[i][j] != 0):\n",
        "      identidade = False\n",
        "      break\n",
        "if identidade:\n",
        "  print('é identidade')\n",
        "else:\n",
        "  print('não é identidade')"
      ],
      "metadata": {
        "colab": {
          "base_uri": "https://localhost:8080/"
        },
        "id": "FyJO1dLicyMU",
        "outputId": "9e8038c5-41b3-454a-c601-560f319468c9"
      },
      "execution_count": 28,
      "outputs": [
        {
          "output_type": "stream",
          "name": "stdout",
          "text": [
            "é identidade\n"
          ]
        }
      ]
    },
    {
      "cell_type": "code",
      "source": [
        "# exemplo4\n",
        "\n",
        "A = [\n",
        "    [2, 3, 8],\n",
        "    [6, 0, 4],\n",
        "    [1, 5, 7],\n",
        "]\n",
        "\n",
        "transposta = [\n",
        "    [0, 0, 0],\n",
        "    [0, 0, 0],\n",
        "    [0, 0, 0],\n",
        "]\n",
        "\n",
        "for i in range(3):\n",
        "  for j in range(3):\n",
        "    transposta[j][i] = A[i][j]\n",
        "\n",
        "print(transposta)"
      ],
      "metadata": {
        "colab": {
          "base_uri": "https://localhost:8080/"
        },
        "id": "VPOsyh0rayXo",
        "outputId": "49522bcf-e62a-4161-c6f0-56daf20c41d1"
      },
      "execution_count": 18,
      "outputs": [
        {
          "output_type": "stream",
          "name": "stdout",
          "text": [
            "[[2, 6, 1], [3, 0, 5], [8, 4, 7]]\n"
          ]
        }
      ]
    },
    {
      "cell_type": "code",
      "source": [
        "# exercicio5\n",
        "\n",
        "A = [\n",
        "    [2, 3, 8],\n",
        "    [6, 0, 4],\n",
        "    [1, 5, 7],\n",
        "]\n",
        "\n",
        "alpha = 3\n",
        "\n",
        "resultado = [\n",
        "    [0, 0, 0],\n",
        "    [0, 0, 0],\n",
        "    [0, 0, 0],\n",
        "]\n",
        "\n",
        "for i in range(3):\n",
        "  for j in range(3):\n",
        "    resultado[i][j] = A[i][j] * alpha\n",
        "\n",
        "print(resultado)"
      ],
      "metadata": {
        "colab": {
          "base_uri": "https://localhost:8080/"
        },
        "id": "d5NfHVr9daEM",
        "outputId": "cec61a35-ff2e-48a5-a168-205c636a8651"
      },
      "execution_count": 33,
      "outputs": [
        {
          "output_type": "stream",
          "name": "stdout",
          "text": [
            "[[6, 9, 24], [18, 0, 12], [3, 15, 21]]\n"
          ]
        }
      ]
    }
  ]
}